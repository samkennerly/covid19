{
 "cells": [
  {
   "cell_type": "code",
   "execution_count": 1,
   "metadata": {},
   "outputs": [
    {
     "data": {
      "application/javascript": [
       "IPython.notebook.set_autosave_interval(0)"
      ]
     },
     "metadata": {},
     "output_type": "display_data"
    },
    {
     "name": "stdout",
     "output_type": "stream",
     "text": [
      "Autosave disabled\n"
     ]
    }
   ],
   "source": [
    "%load_ext autoreload\n",
    "%autoreload 2\n",
    "%autosave 0\n",
    "\n",
    "from etl import kaggle, rivm\n",
    "from contagion import *"
   ]
  },
  {
   "cell_type": "code",
   "execution_count": 14,
   "metadata": {},
   "outputs": [
    {
     "data": {
      "text/plain": [
       "Date\n",
       "2020-03-21    1893850.0\n",
       "2020-03-22    2243800.0\n",
       "2020-03-23    2620500.0\n",
       "2020-03-24    2982400.0\n",
       "2020-03-25    3333150.0\n",
       "Freq: D, Name: confirmed, dtype: float64"
      ]
     },
     "execution_count": 14,
     "metadata": {},
     "output_type": "execute_result"
    }
   ],
   "source": [
    "cprob, ctime = 0.02, 5\n",
    "\n",
    "confirmed = kaggle().xs('US').xs('New York')['confirmed']\n",
    "history = confirmed.shift(-ctime, freq='D').dropna() / cprob\n",
    "history.tail()"
   ]
  },
  {
   "cell_type": "code",
   "execution_count": 15,
   "metadata": {},
   "outputs": [
    {
     "data": {
      "text/plain": [
       "[0,\n",
       " 0.12987012987012986,\n",
       " 0.12087912087912088,\n",
       " 0.11188811188811189,\n",
       " 0.1028971028971029,\n",
       " 0.0939060939060939,\n",
       " 0.08491508491508491,\n",
       " 0.0759240759240759,\n",
       " 0.06693306693306693,\n",
       " 0.05794205794205794,\n",
       " 0.04895104895104895,\n",
       " 0.03996003996003996,\n",
       " 0.030969030969030958,\n",
       " 0.021978021978021973,\n",
       " 0.012987012987012988]"
      ]
     },
     "execution_count": 15,
     "metadata": {},
     "output_type": "execute_result"
    }
   ],
   "source": [
    "from numpy import linspace\n",
    "\n",
    "window = linspace(1, 0.1, 14)\n",
    "window /= window.sum()\n",
    "window = [0, *window]\n",
    "window"
   ]
  },
  {
   "cell_type": "code",
   "execution_count": 16,
   "metadata": {},
   "outputs": [
    {
     "data": {
      "text/plain": [
       "Contagion(0.0, 0.12987012987012986, 0.12087912087912088, 0.11188811188811189, 0.1028971028971029, 0.0939060939060939, 0.08491508491508491, 0.0759240759240759, 0.06693306693306693, 0.05794205794205794, 0.04895104895104895, 0.03996003996003996, 0.030969030969030958, 0.021978021978021973, 0.012987012987012988, beta=3.0, dprob=0.1, dtime=15, qprob=0.5, qtime=15, total=19500000, vprob=0.0)"
      ]
     },
     "execution_count": 16,
     "metadata": {},
     "output_type": "execute_result"
    }
   ],
   "source": [
    "self = Contagion(window, beta=3, total=19.5e6)\n",
    "self"
   ]
  },
  {
   "cell_type": "code",
   "execution_count": 17,
   "metadata": {},
   "outputs": [
    {
     "name": "stdout",
     "output_type": "stream",
     "text": [
      "3333150 16166850 0\n",
      "3573290 15926709 0\n",
      "3796472 15703527 0\n",
      "4000399 15499600 0\n",
      "4182541 15317458 0\n",
      "4343343 15156656 0\n",
      "4483397 15016602 0\n"
     ]
    }
   ],
   "source": [
    "steps = 7\n",
    "\n",
    "params = self.params\n",
    "window = self.window\n",
    "\n",
    "beta = params['beta']\n",
    "total = params['total']\n",
    "vprob = params['vprob']\n",
    "\n",
    "deltas = ( y - x for x, y in zip(history, history[1:]) )\n",
    "deltas = deque(deltas, steps)\n",
    "\n",
    "exposed = history[-1]\n",
    "vaccinated = total * vprob\n",
    "susceptible = total - (vaccinated + exposed)\n",
    "for _ in range(steps):\n",
    "\n",
    "    print(*map(int, (exposed, susceptible, vaccinated)))\n",
    "    \n",
    "    delta = beta * sum(w * x for w, x in zip(reversed(window), deltas))\n",
    "    delta *= susceptible / total\n",
    "    deltas.append(delta)\n",
    "    susceptible -= delta\n",
    "    exposed += delta\n",
    "\n",
    "    "
   ]
  },
  {
   "cell_type": "code",
   "execution_count": null,
   "metadata": {},
   "outputs": [],
   "source": []
  },
  {
   "cell_type": "code",
   "execution_count": null,
   "metadata": {},
   "outputs": [],
   "source": []
  },
  {
   "cell_type": "code",
   "execution_count": null,
   "metadata": {},
   "outputs": [],
   "source": []
  },
  {
   "cell_type": "code",
   "execution_count": null,
   "metadata": {},
   "outputs": [],
   "source": []
  },
  {
   "cell_type": "code",
   "execution_count": null,
   "metadata": {},
   "outputs": [],
   "source": []
  },
  {
   "cell_type": "code",
   "execution_count": null,
   "metadata": {},
   "outputs": [],
   "source": []
  }
 ],
 "metadata": {
  "kernelspec": {
   "display_name": "Python 3",
   "language": "python",
   "name": "python3"
  },
  "language_info": {
   "codemirror_mode": {
    "name": "ipython",
    "version": 3
   },
   "file_extension": ".py",
   "mimetype": "text/x-python",
   "name": "python",
   "nbconvert_exporter": "python",
   "pygments_lexer": "ipython3",
   "version": "3.6.10"
  }
 },
 "nbformat": 4,
 "nbformat_minor": 4
}
