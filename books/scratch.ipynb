{
 "cells": [
  {
   "cell_type": "code",
   "execution_count": 1,
   "metadata": {},
   "outputs": [
    {
     "data": {
      "application/javascript": [
       "IPython.notebook.set_autosave_interval(0)"
      ]
     },
     "metadata": {},
     "output_type": "display_data"
    },
    {
     "name": "stdout",
     "output_type": "stream",
     "text": [
      "Autosave disabled\n"
     ]
    }
   ],
   "source": [
    "%load_ext autoreload\n",
    "%autoreload 2\n",
    "%autosave 0\n",
    "\n",
    "from numpy import linspace\n",
    "from pandas import DataFrame\n",
    "\n",
    "from etl import kaggle, rivm\n",
    "from contagion import *"
   ]
  },
  {
   "cell_type": "code",
   "execution_count": 2,
   "metadata": {},
   "outputs": [
    {
     "data": {
      "text/plain": [
       "[0.13,\n",
       " 0.121,\n",
       " 0.112,\n",
       " 0.103,\n",
       " 0.094,\n",
       " 0.085,\n",
       " 0.076,\n",
       " 0.067,\n",
       " 0.058,\n",
       " 0.049,\n",
       " 0.04,\n",
       " 0.031,\n",
       " 0.022,\n",
       " 0.013]"
      ]
     },
     "execution_count": 2,
     "metadata": {},
     "output_type": "execute_result"
    }
   ],
   "source": [
    "window = linspace(1, 0.1, 14)\n",
    "window = [ x / sum(window) for x in window ]\n",
    "window = [ round(x, 3) for x in window ]\n",
    "window"
   ]
  },
  {
   "cell_type": "code",
   "execution_count": 3,
   "metadata": {},
   "outputs": [
    {
     "data": {
      "text/plain": [
       "2020-03-22    23660.0\n",
       "2020-03-23    19780.0\n",
       "2020-03-24    14640.0\n",
       "2020-03-25    12480.0\n",
       "2020-03-26     2000.0\n",
       "Freq: D, Name: confirmed, dtype: float64"
      ]
     },
     "execution_count": 3,
     "metadata": {},
     "output_type": "execute_result"
    }
   ],
   "source": [
    "cprob, ctime = 0.05, 5\n",
    "\n",
    "real = rivm()\n",
    "cases = real['confirmed'].shift(-ctime, freq='D').dropna() / cprob\n",
    "cases.diff().tail()"
   ]
  },
  {
   "cell_type": "code",
   "execution_count": 85,
   "metadata": {},
   "outputs": [
    {
     "data": {
      "text/html": [
       "<div>\n",
       "<style scoped>\n",
       "    .dataframe tbody tr th:only-of-type {\n",
       "        vertical-align: middle;\n",
       "    }\n",
       "\n",
       "    .dataframe tbody tr th {\n",
       "        vertical-align: top;\n",
       "    }\n",
       "\n",
       "    .dataframe thead th {\n",
       "        text-align: right;\n",
       "    }\n",
       "</style>\n",
       "<table border=\"1\" class=\"dataframe\">\n",
       "  <thead>\n",
       "    <tr style=\"text-align: right;\">\n",
       "      <th></th>\n",
       "      <th>deceased</th>\n",
       "      <th>exposed</th>\n",
       "      <th>infectious</th>\n",
       "      <th>quarantined</th>\n",
       "      <th>recovered</th>\n",
       "      <th>susceptible</th>\n",
       "      <th>vaccinated</th>\n",
       "    </tr>\n",
       "  </thead>\n",
       "  <tbody>\n",
       "    <tr>\n",
       "      <th>55</th>\n",
       "      <td>51189</td>\n",
       "      <td>8586</td>\n",
       "      <td>9422</td>\n",
       "      <td>23331</td>\n",
       "      <td>460709</td>\n",
       "      <td>16846760</td>\n",
       "      <td>0</td>\n",
       "    </tr>\n",
       "    <tr>\n",
       "      <th>56</th>\n",
       "      <td>51390</td>\n",
       "      <td>9358</td>\n",
       "      <td>10206</td>\n",
       "      <td>21831</td>\n",
       "      <td>462518</td>\n",
       "      <td>16844693</td>\n",
       "      <td>0</td>\n",
       "    </tr>\n",
       "    <tr>\n",
       "      <th>57</th>\n",
       "      <td>51591</td>\n",
       "      <td>10527</td>\n",
       "      <td>10460</td>\n",
       "      <td>20614</td>\n",
       "      <td>464321</td>\n",
       "      <td>16842485</td>\n",
       "      <td>0</td>\n",
       "    </tr>\n",
       "    <tr>\n",
       "      <th>58</th>\n",
       "      <td>51807</td>\n",
       "      <td>11836</td>\n",
       "      <td>10004</td>\n",
       "      <td>19825</td>\n",
       "      <td>466264</td>\n",
       "      <td>16840261</td>\n",
       "      <td>0</td>\n",
       "    </tr>\n",
       "    <tr>\n",
       "      <th>59</th>\n",
       "      <td>52048</td>\n",
       "      <td>12989</td>\n",
       "      <td>8872</td>\n",
       "      <td>19473</td>\n",
       "      <td>468437</td>\n",
       "      <td>16838179</td>\n",
       "      <td>0</td>\n",
       "    </tr>\n",
       "  </tbody>\n",
       "</table>\n",
       "</div>"
      ],
      "text/plain": [
       "    deceased  exposed  infectious  quarantined  recovered  susceptible  \\\n",
       "55     51189     8586        9422        23331     460709     16846760   \n",
       "56     51390     9358       10206        21831     462518     16844693   \n",
       "57     51591    10527       10460        20614     464321     16842485   \n",
       "58     51807    11836       10004        19825     466264     16840261   \n",
       "59     52048    12989        8872        19473     468437     16838179   \n",
       "\n",
       "    vaccinated  \n",
       "55           0  \n",
       "56           0  \n",
       "57           0  \n",
       "58           0  \n",
       "59           0  "
      ]
     },
     "execution_count": 85,
     "metadata": {},
     "output_type": "execute_result"
    }
   ],
   "source": [
    "kw = dict()\n",
    "kw['beta'] = 10\n",
    "kw['fatal'] = 0.1\n",
    "kw['ilag'] = 4\n",
    "kw['qlag'] = 7\n",
    "kw['size'] = 17_400_000\n",
    "\n",
    "self = Contagion(window, **kw)\n",
    "data = DataFrame(self(cases, 60)).astype(int)\n",
    "data.tail()"
   ]
  },
  {
   "cell_type": "code",
   "execution_count": 86,
   "metadata": {},
   "outputs": [
    {
     "data": {
      "text/plain": [
       "<matplotlib.axes._subplots.AxesSubplot at 0x7f397bcde470>"
      ]
     },
     "execution_count": 86,
     "metadata": {},
     "output_type": "execute_result"
    },
    {
     "data": {
      "image/png": "[encoded data removed]",
      "text/plain": [
       "<Figure size 648x360 with 1 Axes>"
      ]
     },
     "metadata": {
      "needs_background": "light"
     },
     "output_type": "display_data"
    }
   ],
   "source": [
    "data.plot.area(figsize=(9,5), color='kmrygbc')"
   ]
  },
  {
   "cell_type": "code",
   "execution_count": null,
   "metadata": {},
   "outputs": [],
   "source": []
  },
  {
   "cell_type": "code",
   "execution_count": null,
   "metadata": {},
   "outputs": [],
   "source": []
  },
  {
   "cell_type": "code",
   "execution_count": null,
   "metadata": {},
   "outputs": [],
   "source": []
  },
  {
   "cell_type": "code",
   "execution_count": null,
   "metadata": {},
   "outputs": [],
   "source": []
  },
  {
   "cell_type": "code",
   "execution_count": null,
   "metadata": {},
   "outputs": [],
   "source": []
  },
  {
   "cell_type": "code",
   "execution_count": null,
   "metadata": {},
   "outputs": [],
   "source": []
  },
  {
   "cell_type": "code",
   "execution_count": null,
   "metadata": {},
   "outputs": [],
   "source": []
  },
  {
   "cell_type": "code",
   "execution_count": null,
   "metadata": {},
   "outputs": [],
   "source": []
  }
 ],
 "metadata": {
  "kernelspec": {
   "display_name": "Python 3",
   "language": "python",
   "name": "python3"
  },
  "language_info": {
   "codemirror_mode": {
    "name": "ipython",
    "version": 3
   },
   "file_extension": ".py",
   "mimetype": "text/x-python",
   "name": "python",
   "nbconvert_exporter": "python",
   "pygments_lexer": "ipython3",
   "version": "3.6.10"
  }
 },
 "nbformat": 4,
 "nbformat_minor": 4
}
