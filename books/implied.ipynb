{
 "cells": [
  {
   "cell_type": "markdown",
   "metadata": {},
   "source": [
    "# implied counts\n",
    "\n",
    "Adjust counts for time lags and unconfirmed cases."
   ]
  },
  {
   "cell_type": "code",
   "execution_count": 1,
   "metadata": {},
   "outputs": [
    {
     "data": {
      "application/javascript": [
       "IPython.notebook.set_autosave_interval(0)"
      ]
     },
     "metadata": {},
     "output_type": "display_data"
    },
    {
     "name": "stdout",
     "output_type": "stream",
     "text": [
      "Autosave disabled\n"
     ]
    }
   ],
   "source": [
    "%load_ext autoreload\n",
    "%autoreload 2\n",
    "%autosave 0"
   ]
  },
  {
   "cell_type": "code",
   "execution_count": 2,
   "metadata": {},
   "outputs": [],
   "source": [
    "import etl\n",
    "\n",
    "from pandas import DataFrame"
   ]
  },
  {
   "cell_type": "code",
   "execution_count": 3,
   "metadata": {},
   "outputs": [],
   "source": [
    "FIGSIZE = (9, 5)"
   ]
  },
  {
   "cell_type": "markdown",
   "metadata": {},
   "source": [
    "## realized counts\n",
    "\n",
    "Load examples from [CoronaWatchNL] via jonathandebruinos@gmail.com.\n",
    "\n",
    "[CoronaWatchNL]: https://github.com/J535D165/CoronaWatchNL"
   ]
  },
  {
   "cell_type": "code",
   "execution_count": 19,
   "metadata": {},
   "outputs": [
    {
     "data": {
      "text/html": [
       "<div>\n",
       "<style scoped>\n",
       "    .dataframe tbody tr th:only-of-type {\n",
       "        vertical-align: middle;\n",
       "    }\n",
       "\n",
       "    .dataframe tbody tr th {\n",
       "        vertical-align: top;\n",
       "    }\n",
       "\n",
       "    .dataframe thead th {\n",
       "        text-align: right;\n",
       "    }\n",
       "</style>\n",
       "<table border=\"1\" class=\"dataframe\">\n",
       "  <thead>\n",
       "    <tr style=\"text-align: right;\">\n",
       "      <th></th>\n",
       "      <th>confirmed</th>\n",
       "      <th>deceased</th>\n",
       "      <th>hospitalized</th>\n",
       "    </tr>\n",
       "    <tr>\n",
       "      <th>date</th>\n",
       "      <th></th>\n",
       "      <th></th>\n",
       "      <th></th>\n",
       "    </tr>\n",
       "  </thead>\n",
       "  <tbody>\n",
       "    <tr>\n",
       "      <th>2020-02-27</th>\n",
       "      <td>1</td>\n",
       "      <td>0</td>\n",
       "      <td>0</td>\n",
       "    </tr>\n",
       "    <tr>\n",
       "      <th>2020-02-28</th>\n",
       "      <td>2</td>\n",
       "      <td>0</td>\n",
       "      <td>0</td>\n",
       "    </tr>\n",
       "    <tr>\n",
       "      <th>2020-02-29</th>\n",
       "      <td>7</td>\n",
       "      <td>0</td>\n",
       "      <td>0</td>\n",
       "    </tr>\n",
       "    <tr>\n",
       "      <th>2020-03-01</th>\n",
       "      <td>10</td>\n",
       "      <td>0</td>\n",
       "      <td>0</td>\n",
       "    </tr>\n",
       "    <tr>\n",
       "      <th>2020-03-02</th>\n",
       "      <td>18</td>\n",
       "      <td>0</td>\n",
       "      <td>0</td>\n",
       "    </tr>\n",
       "    <tr>\n",
       "      <th>2020-03-03</th>\n",
       "      <td>24</td>\n",
       "      <td>0</td>\n",
       "      <td>0</td>\n",
       "    </tr>\n",
       "    <tr>\n",
       "      <th>2020-03-04</th>\n",
       "      <td>38</td>\n",
       "      <td>0</td>\n",
       "      <td>0</td>\n",
       "    </tr>\n",
       "    <tr>\n",
       "      <th>2020-03-05</th>\n",
       "      <td>82</td>\n",
       "      <td>0</td>\n",
       "      <td>0</td>\n",
       "    </tr>\n",
       "    <tr>\n",
       "      <th>2020-03-06</th>\n",
       "      <td>128</td>\n",
       "      <td>1</td>\n",
       "      <td>0</td>\n",
       "    </tr>\n",
       "    <tr>\n",
       "      <th>2020-03-07</th>\n",
       "      <td>188</td>\n",
       "      <td>1</td>\n",
       "      <td>0</td>\n",
       "    </tr>\n",
       "    <tr>\n",
       "      <th>2020-03-08</th>\n",
       "      <td>265</td>\n",
       "      <td>3</td>\n",
       "      <td>0</td>\n",
       "    </tr>\n",
       "    <tr>\n",
       "      <th>2020-03-09</th>\n",
       "      <td>321</td>\n",
       "      <td>3</td>\n",
       "      <td>0</td>\n",
       "    </tr>\n",
       "    <tr>\n",
       "      <th>2020-03-10</th>\n",
       "      <td>382</td>\n",
       "      <td>4</td>\n",
       "      <td>0</td>\n",
       "    </tr>\n",
       "    <tr>\n",
       "      <th>2020-03-11</th>\n",
       "      <td>503</td>\n",
       "      <td>5</td>\n",
       "      <td>0</td>\n",
       "    </tr>\n",
       "    <tr>\n",
       "      <th>2020-03-12</th>\n",
       "      <td>613</td>\n",
       "      <td>5</td>\n",
       "      <td>86</td>\n",
       "    </tr>\n",
       "    <tr>\n",
       "      <th>2020-03-13</th>\n",
       "      <td>804</td>\n",
       "      <td>10</td>\n",
       "      <td>115</td>\n",
       "    </tr>\n",
       "    <tr>\n",
       "      <th>2020-03-14</th>\n",
       "      <td>959</td>\n",
       "      <td>12</td>\n",
       "      <td>136</td>\n",
       "    </tr>\n",
       "    <tr>\n",
       "      <th>2020-03-15</th>\n",
       "      <td>1135</td>\n",
       "      <td>20</td>\n",
       "      <td>162</td>\n",
       "    </tr>\n",
       "    <tr>\n",
       "      <th>2020-03-16</th>\n",
       "      <td>1413</td>\n",
       "      <td>24</td>\n",
       "      <td>205</td>\n",
       "    </tr>\n",
       "    <tr>\n",
       "      <th>2020-03-17</th>\n",
       "      <td>1703</td>\n",
       "      <td>43</td>\n",
       "      <td>314</td>\n",
       "    </tr>\n",
       "    <tr>\n",
       "      <th>2020-03-18</th>\n",
       "      <td>2051</td>\n",
       "      <td>58</td>\n",
       "      <td>408</td>\n",
       "    </tr>\n",
       "    <tr>\n",
       "      <th>2020-03-19</th>\n",
       "      <td>2460</td>\n",
       "      <td>76</td>\n",
       "      <td>489</td>\n",
       "    </tr>\n",
       "    <tr>\n",
       "      <th>2020-03-20</th>\n",
       "      <td>2994</td>\n",
       "      <td>106</td>\n",
       "      <td>634</td>\n",
       "    </tr>\n",
       "    <tr>\n",
       "      <th>2020-03-21</th>\n",
       "      <td>3631</td>\n",
       "      <td>136</td>\n",
       "      <td>836</td>\n",
       "    </tr>\n",
       "    <tr>\n",
       "      <th>2020-03-22</th>\n",
       "      <td>4204</td>\n",
       "      <td>179</td>\n",
       "      <td>988</td>\n",
       "    </tr>\n",
       "    <tr>\n",
       "      <th>2020-03-23</th>\n",
       "      <td>4749</td>\n",
       "      <td>213</td>\n",
       "      <td>1230</td>\n",
       "    </tr>\n",
       "    <tr>\n",
       "      <th>2020-03-24</th>\n",
       "      <td>5560</td>\n",
       "      <td>276</td>\n",
       "      <td>1495</td>\n",
       "    </tr>\n",
       "    <tr>\n",
       "      <th>2020-03-25</th>\n",
       "      <td>6412</td>\n",
       "      <td>356</td>\n",
       "      <td>1836</td>\n",
       "    </tr>\n",
       "    <tr>\n",
       "      <th>2020-03-26</th>\n",
       "      <td>7431</td>\n",
       "      <td>434</td>\n",
       "      <td>2151</td>\n",
       "    </tr>\n",
       "    <tr>\n",
       "      <th>2020-03-27</th>\n",
       "      <td>8603</td>\n",
       "      <td>546</td>\n",
       "      <td>2500</td>\n",
       "    </tr>\n",
       "    <tr>\n",
       "      <th>2020-03-28</th>\n",
       "      <td>9762</td>\n",
       "      <td>639</td>\n",
       "      <td>2954</td>\n",
       "    </tr>\n",
       "    <tr>\n",
       "      <th>2020-03-29</th>\n",
       "      <td>10866</td>\n",
       "      <td>771</td>\n",
       "      <td>3483</td>\n",
       "    </tr>\n",
       "  </tbody>\n",
       "</table>\n",
       "</div>"
      ],
      "text/plain": [
       "            confirmed  deceased  hospitalized\n",
       "date                                         \n",
       "2020-02-27          1         0             0\n",
       "2020-02-28          2         0             0\n",
       "2020-02-29          7         0             0\n",
       "2020-03-01         10         0             0\n",
       "2020-03-02         18         0             0\n",
       "2020-03-03         24         0             0\n",
       "2020-03-04         38         0             0\n",
       "2020-03-05         82         0             0\n",
       "2020-03-06        128         1             0\n",
       "2020-03-07        188         1             0\n",
       "2020-03-08        265         3             0\n",
       "2020-03-09        321         3             0\n",
       "2020-03-10        382         4             0\n",
       "2020-03-11        503         5             0\n",
       "2020-03-12        613         5            86\n",
       "2020-03-13        804        10           115\n",
       "2020-03-14        959        12           136\n",
       "2020-03-15       1135        20           162\n",
       "2020-03-16       1413        24           205\n",
       "2020-03-17       1703        43           314\n",
       "2020-03-18       2051        58           408\n",
       "2020-03-19       2460        76           489\n",
       "2020-03-20       2994       106           634\n",
       "2020-03-21       3631       136           836\n",
       "2020-03-22       4204       179           988\n",
       "2020-03-23       4749       213          1230\n",
       "2020-03-24       5560       276          1495\n",
       "2020-03-25       6412       356          1836\n",
       "2020-03-26       7431       434          2151\n",
       "2020-03-27       8603       546          2500\n",
       "2020-03-28       9762       639          2954\n",
       "2020-03-29      10866       771          3483"
      ]
     },
     "execution_count": 19,
     "metadata": {},
     "output_type": "execute_result"
    }
   ],
   "source": [
    "real = etl.rivm()\n",
    "real"
   ]
  },
  {
   "cell_type": "markdown",
   "metadata": {},
   "source": [
    "## implied exposures\n",
    "\n",
    "Assumptions:\n",
    "\n",
    "- False-positive rate P(confirmed | not exposed) = 0.\n",
    "- Confirmation rate P(confirmed | exposed) = `cprob`.\n",
    "- Confirmations occur `ctime` days after exposure.\n",
    "\n",
    "**Caution:** If testing is common, then ignoring false positives leads to the [prosecutor's fallacy].\n",
    "\n",
    "[prosecutor's fallacy]: https://en.wikipedia.org/wiki/Prosecutor's_fallacy"
   ]
  },
  {
   "cell_type": "code",
   "execution_count": 17,
   "metadata": {},
   "outputs": [
    {
     "data": {
      "image/png": "[encoded data removed]",
      "text/plain": [
       "<Figure size 648x360 with 1 Axes>"
      ]
     },
     "metadata": {
      "needs_background": "light"
     },
     "output_type": "display_data"
    }
   ],
   "source": [
    "cprob = 0.05\n",
    "ctime = 5\n",
    "\n",
    "exposed = (\n",
    "    real['confirmed'].rename('exposed')\n",
    "    .div(cprob).shift(-ctime, freq=real.index.freq)\n",
    ")\n",
    "data = real.join(exposed, how='outer').diff()\n",
    "axes = data.plot(figsize=FIGSIZE, grid=True, logy=True, title='new cases')"
   ]
  },
  {
   "cell_type": "markdown",
   "metadata": {},
   "source": [
    "## implied fatality rates\n",
    "\n",
    "Assumptions:\n",
    "\n",
    "- Unconfirmed cases are never fatal.\n",
    "- Deaths occur `dtime` days after exposure.\n",
    "\n",
    "**Caution:** P(deceased | exposed) may be much less than [case fatality rate].\n",
    "\n",
    "[case fatality rate]: https://en.wikipedia.org/wiki/Case_fatality_rate"
   ]
  },
  {
   "cell_type": "code",
   "execution_count": 18,
   "metadata": {},
   "outputs": [
    {
     "name": "stdout",
     "output_type": "stream",
     "text": [
      "0.546 deaths per confirmed case\n",
      "0.077 deaths per implied exposure\n"
     ]
    },
    {
     "data": {
      "image/png": "[encoded data removed]",
      "text/plain": [
       "<Figure size 648x360 with 1 Axes>"
      ]
     },
     "metadata": {
      "needs_background": "light"
     },
     "output_type": "display_data"
    }
   ],
   "source": [
    "dtime = ctime + 13\n",
    "\n",
    "confirmed = real['confirmed']\n",
    "deceased = real['deceased']\n",
    "\n",
    "cfr = deceased[-1] / confirmed.iat[-(1 + dtime - ctime)]\n",
    "ifr = deceased[-1] / exposed.iat[-(1 + dtime)]\n",
    "print(f\"{cfr.round(3)} deaths per confirmed case\")\n",
    "print(f\"{ifr.round(3)} deaths per implied exposure\")\n",
    "\n",
    "data = DataFrame(deceased.diff())\n",
    "data['expected'] = cfr * confirmed.diff().shift(dtime - ctime)\n",
    "axes = data.plot(figsize=FIGSIZE, title='fatal confirmed cases')"
   ]
  },
  {
   "cell_type": "code",
   "execution_count": null,
   "metadata": {},
   "outputs": [],
   "source": []
  }
 ],
 "metadata": {
  "kernelspec": {
   "display_name": "Python 3",
   "language": "python",
   "name": "python3"
  },
  "language_info": {
   "codemirror_mode": {
    "name": "ipython",
    "version": 3
   },
   "file_extension": ".py",
   "mimetype": "text/x-python",
   "name": "python",
   "nbconvert_exporter": "python",
   "pygments_lexer": "ipython3",
   "version": "3.6.10"
  }
 },
 "nbformat": 4,
 "nbformat_minor": 4
}
