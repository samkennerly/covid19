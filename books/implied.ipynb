{
 "cells": [
  {
   "cell_type": "markdown",
   "metadata": {},
   "source": [
    "# implied counts"
   ]
  },
  {
   "cell_type": "code",
   "execution_count": 1,
   "metadata": {},
   "outputs": [
    {
     "data": {
      "application/javascript": [
       "IPython.notebook.set_autosave_interval(0)"
      ]
     },
     "metadata": {},
     "output_type": "display_data"
    },
    {
     "name": "stdout",
     "output_type": "stream",
     "text": [
      "Autosave disabled\n"
     ]
    }
   ],
   "source": [
    "%load_ext autoreload\n",
    "%autoreload 2\n",
    "%autosave 0"
   ]
  },
  {
   "cell_type": "code",
   "execution_count": 2,
   "metadata": {},
   "outputs": [],
   "source": [
    "from pathlib import Path\n",
    "from numpy.random import randint\n",
    "from pandas import DataFrame, Series, date_range, read_csv"
   ]
  },
  {
   "cell_type": "markdown",
   "metadata": {},
   "source": [
    "**Confirmed** cases:\n",
    "\n",
    "- P(confirmed | not exposed) = 0. No false confirmations.\n",
    "- P(confirmed | exposed) = `CPROB`. Many exposures are never confirmed.\n",
    "- Confirmations occur `CTIME` days after exposure.\n",
    "\n",
    "**Deceased** cases:\n",
    "\n",
    "- P(deceased | exposed) = 0. All deaths are confirmed cases.\n",
    "- Deaths occur `DTIME` days after exposure."
   ]
  },
  {
   "cell_type": "code",
   "execution_count": 3,
   "metadata": {},
   "outputs": [],
   "source": [
    "CPROB = 0.05\n",
    "CTIME = 7\n",
    "DTIME = CTIME + 10\n",
    "FOLDER = Path('../data/rivm').resolve()\n",
    "FIGSIZE = (9, 5)"
   ]
  },
  {
   "cell_type": "markdown",
   "metadata": {},
   "source": [
    "## realized counts\n",
    "\n",
    "Load examples from [CoronaWatchNL] via jonathandebruinos@gmail.com.\n",
    "\n",
    "[CoronaWatchNL]: https://github.com/J535D165/CoronaWatchNL"
   ]
  },
  {
   "cell_type": "code",
   "execution_count": 4,
   "metadata": {},
   "outputs": [
    {
     "data": {
      "text/html": [
       "<div>\n",
       "<style scoped>\n",
       "    .dataframe tbody tr th:only-of-type {\n",
       "        vertical-align: middle;\n",
       "    }\n",
       "\n",
       "    .dataframe tbody tr th {\n",
       "        vertical-align: top;\n",
       "    }\n",
       "\n",
       "    .dataframe thead th {\n",
       "        text-align: right;\n",
       "    }\n",
       "</style>\n",
       "<table border=\"1\" class=\"dataframe\">\n",
       "  <thead>\n",
       "    <tr style=\"text-align: right;\">\n",
       "      <th></th>\n",
       "      <th>confirmed</th>\n",
       "      <th>deceased</th>\n",
       "      <th>hospitalized</th>\n",
       "    </tr>\n",
       "    <tr>\n",
       "      <th>date</th>\n",
       "      <th></th>\n",
       "      <th></th>\n",
       "      <th></th>\n",
       "    </tr>\n",
       "  </thead>\n",
       "  <tbody>\n",
       "    <tr>\n",
       "      <th>2020-03-25</th>\n",
       "      <td>6412</td>\n",
       "      <td>356</td>\n",
       "      <td>1836</td>\n",
       "    </tr>\n",
       "    <tr>\n",
       "      <th>2020-03-26</th>\n",
       "      <td>7431</td>\n",
       "      <td>434</td>\n",
       "      <td>2151</td>\n",
       "    </tr>\n",
       "    <tr>\n",
       "      <th>2020-03-27</th>\n",
       "      <td>8603</td>\n",
       "      <td>546</td>\n",
       "      <td>2500</td>\n",
       "    </tr>\n",
       "    <tr>\n",
       "      <th>2020-03-28</th>\n",
       "      <td>9762</td>\n",
       "      <td>639</td>\n",
       "      <td>2954</td>\n",
       "    </tr>\n",
       "    <tr>\n",
       "      <th>2020-03-29</th>\n",
       "      <td>10866</td>\n",
       "      <td>771</td>\n",
       "      <td>3483</td>\n",
       "    </tr>\n",
       "  </tbody>\n",
       "</table>\n",
       "</div>"
      ],
      "text/plain": [
       "            confirmed  deceased  hospitalized\n",
       "date                                         \n",
       "2020-03-25       6412       356          1836\n",
       "2020-03-26       7431       434          2151\n",
       "2020-03-27       8603       546          2500\n",
       "2020-03-28       9762       639          2954\n",
       "2020-03-29      10866       771          3483"
      ]
     },
     "execution_count": 4,
     "metadata": {},
     "output_type": "execute_result"
    }
   ],
   "source": [
    "def read(name):\n",
    "    path = (FOLDER / name).with_suffix('.csv')\n",
    "    data = read_csv(path, parse_dates=['Datum'], index_col='Datum')\n",
    "    return data.pop('Aantal').rename_axis('date')\n",
    "\n",
    "real = (\n",
    "    DataFrame()\n",
    "    .assign(confirmed = read('confirmed'))\n",
    "    .assign(deceased = read('deceased'))\n",
    "    .assign(hospitalized = read('hospitalized'))\n",
    "    .resample('D').sum().astype(int)\n",
    ")\n",
    "real.tail()"
   ]
  },
  {
   "cell_type": "markdown",
   "metadata": {},
   "source": [
    "## implied exposures\n",
    "Adjust for confirmation lag and unconfirmed exposures."
   ]
  },
  {
   "cell_type": "code",
   "execution_count": 5,
   "metadata": {},
   "outputs": [
    {
     "data": {
      "text/html": [
       "<div>\n",
       "<style scoped>\n",
       "    .dataframe tbody tr th:only-of-type {\n",
       "        vertical-align: middle;\n",
       "    }\n",
       "\n",
       "    .dataframe tbody tr th {\n",
       "        vertical-align: top;\n",
       "    }\n",
       "\n",
       "    .dataframe thead th {\n",
       "        text-align: right;\n",
       "    }\n",
       "</style>\n",
       "<table border=\"1\" class=\"dataframe\">\n",
       "  <thead>\n",
       "    <tr style=\"text-align: right;\">\n",
       "      <th></th>\n",
       "      <th>confirmed</th>\n",
       "      <th>deceased</th>\n",
       "      <th>hospitalized</th>\n",
       "      <th>exposed</th>\n",
       "    </tr>\n",
       "    <tr>\n",
       "      <th>date</th>\n",
       "      <th></th>\n",
       "      <th></th>\n",
       "      <th></th>\n",
       "      <th></th>\n",
       "    </tr>\n",
       "  </thead>\n",
       "  <tbody>\n",
       "    <tr>\n",
       "      <th>2020-03-25</th>\n",
       "      <td>6412.0</td>\n",
       "      <td>356.0</td>\n",
       "      <td>1836.0</td>\n",
       "      <td>NaN</td>\n",
       "    </tr>\n",
       "    <tr>\n",
       "      <th>2020-03-26</th>\n",
       "      <td>7431.0</td>\n",
       "      <td>434.0</td>\n",
       "      <td>2151.0</td>\n",
       "      <td>NaN</td>\n",
       "    </tr>\n",
       "    <tr>\n",
       "      <th>2020-03-27</th>\n",
       "      <td>8603.0</td>\n",
       "      <td>546.0</td>\n",
       "      <td>2500.0</td>\n",
       "      <td>NaN</td>\n",
       "    </tr>\n",
       "    <tr>\n",
       "      <th>2020-03-28</th>\n",
       "      <td>9762.0</td>\n",
       "      <td>639.0</td>\n",
       "      <td>2954.0</td>\n",
       "      <td>NaN</td>\n",
       "    </tr>\n",
       "    <tr>\n",
       "      <th>2020-03-29</th>\n",
       "      <td>10866.0</td>\n",
       "      <td>771.0</td>\n",
       "      <td>3483.0</td>\n",
       "      <td>NaN</td>\n",
       "    </tr>\n",
       "  </tbody>\n",
       "</table>\n",
       "</div>"
      ],
      "text/plain": [
       "            confirmed  deceased  hospitalized  exposed\n",
       "date                                                  \n",
       "2020-03-25     6412.0     356.0        1836.0      NaN\n",
       "2020-03-26     7431.0     434.0        2151.0      NaN\n",
       "2020-03-27     8603.0     546.0        2500.0      NaN\n",
       "2020-03-28     9762.0     639.0        2954.0      NaN\n",
       "2020-03-29    10866.0     771.0        3483.0      NaN"
      ]
     },
     "execution_count": 5,
     "metadata": {},
     "output_type": "execute_result"
    }
   ],
   "source": [
    "exposed = (\n",
    "    real['confirmed'].rename('exposed')\n",
    "    .shift(-CTIME, freq=real.index.freq)\n",
    "    .div(CPROB)\n",
    ")\n",
    "implied = real.join(exposed, how='outer')\n",
    "implied.tail()"
   ]
  },
  {
   "cell_type": "code",
   "execution_count": 6,
   "metadata": {},
   "outputs": [
    {
     "data": {
      "image/png": "[encoded data removed]",
      "text/plain": [
       "<Figure size 648x360 with 1 Axes>"
      ]
     },
     "metadata": {
      "needs_background": "light"
     },
     "output_type": "display_data"
    }
   ],
   "source": [
    "axes = implied.plot(figsize=FIGSIZE, logy=True)"
   ]
  },
  {
   "cell_type": "markdown",
   "metadata": {},
   "source": [
    "## implied fatality rates\n",
    "Estimate [case fatality rate] and infection fatality rate.\n",
    "\n",
    "[case fatality rate]: https://en.wikipedia.org/wiki/Case_fatality_rate"
   ]
  },
  {
   "cell_type": "code",
   "execution_count": 7,
   "metadata": {},
   "outputs": [
    {
     "name": "stdout",
     "output_type": "stream",
     "text": [
      "0.313 deaths per confirmed case\n",
      "0.016 deaths per implied exposure\n"
     ]
    }
   ],
   "source": [
    "deaths = real['deceased'][-1]\n",
    "\n",
    "cfr = deaths / real['confirmed'][-(1 + DTIME - CTIME)]\n",
    "print(f\"{cfr.round(3)} deaths per confirmed case\")\n",
    "\n",
    "ifr = deaths / implied['exposed'][-(1 + DTIME)]\n",
    "print(f\"{ifr.round(3)} deaths per implied exposure\")"
   ]
  },
  {
   "cell_type": "code",
   "execution_count": null,
   "metadata": {},
   "outputs": [],
   "source": []
  },
  {
   "cell_type": "code",
   "execution_count": null,
   "metadata": {},
   "outputs": [],
   "source": []
  },
  {
   "cell_type": "code",
   "execution_count": null,
   "metadata": {},
   "outputs": [],
   "source": []
  },
  {
   "cell_type": "code",
   "execution_count": null,
   "metadata": {},
   "outputs": [],
   "source": []
  },
  {
   "cell_type": "code",
   "execution_count": null,
   "metadata": {},
   "outputs": [],
   "source": []
  },
  {
   "cell_type": "code",
   "execution_count": null,
   "metadata": {},
   "outputs": [],
   "source": []
  }
 ],
 "metadata": {
  "kernelspec": {
   "display_name": "Python 3",
   "language": "python",
   "name": "python3"
  },
  "language_info": {
   "codemirror_mode": {
    "name": "ipython",
    "version": 3
   },
   "file_extension": ".py",
   "mimetype": "text/x-python",
   "name": "python",
   "nbconvert_exporter": "python",
   "pygments_lexer": "ipython3",
   "version": "3.6.10"
  }
 },
 "nbformat": 4,
 "nbformat_minor": 4
}
