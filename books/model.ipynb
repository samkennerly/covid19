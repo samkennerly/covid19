{
 "cells": [
  {
   "cell_type": "markdown",
   "metadata": {},
   "source": [
    "# contagion window model\n",
    "\n",
    "## inputs\n",
    "\n",
    "| symbol | expression        | definition |\n",
    "| --:    | :--               | :--\n",
    "| $N$    | `n`               | number of nodes\n",
    "| $\\tau$ | `len(window)`     | maximum infection duration\n",
    "| $w_i$  | `window[i]`       | transmissions from each node after $i$ days of infection\n",
    "| $c$    | `p['confirm']`    | fraction of infections which are confirmed\n",
    "| $\\phi$ | `p['fatal']`      | [infection fatality rate] (not case fatality rate)\n",
    "| $v$    | `p['vax']`        | fraction of not-yet-infected nodes which are vaccinated\n",
    "\n",
    "[infection fatality rate]: https://en.wikipedia.org/wiki/Case_fatality_rate#Terminology\n",
    "\n",
    "## outputs\n",
    "\n",
    "## dynamics\n",
    "\n",
    "Time evolution of $x_t$ is governed by a [master equation]:\n",
    "\n",
    "$$\n",
    "x_{t+1} = \\frac{S_t}{N}(\\mathbf{w} * \\mathbf{x})_t\n",
    "$$\n",
    "\n",
    "where the <dfn>susceptiblility</dfn> term is the probability that an unvaccinated node has never been infected:\n",
    "\n",
    "$$\n",
    "\\frac{S_t}{N}\n",
    "= \\frac{N(1-v) - X_t}{N}\n",
    "= 1 - v - \\frac{1}{N}\\sum_{i=0}^{t-1} x_i\n",
    "$$\n",
    "\n",
    "and the <dfn>contagion</dfn> term a [discrete convolution:\n",
    "\n",
    "$$\n",
    "(\\mathbf{w} * \\mathbf{x})_t\n",
    "= \\sum_{i=-\\infty}^{\\infty} w_i x_{t-i}\n",
    "= w_0 x_t + w_1 x_{t-1} + \\cdots + w_{\\tau-1}x_{t-(\\tau-1)}\n",
    "= \\sum_{i=0}^{\\tau-1} w_i x_{t-i}\n",
    "$$\n",
    "\n",
    "[master equation]: https://en.wikipedia.org/wiki/Master_equation\n",
    "[discrete convolution]: https://en.wikipedia.org/wiki/Convolution#Discrete_convolution"
   ]
  },
  {
   "cell_type": "code",
   "execution_count": 1,
   "metadata": {},
   "outputs": [
    {
     "data": {
      "application/javascript": [
       "IPython.notebook.set_autosave_interval(0)"
      ]
     },
     "metadata": {},
     "output_type": "display_data"
    },
    {
     "name": "stdout",
     "output_type": "stream",
     "text": [
      "Autosave disabled\n"
     ]
    }
   ],
   "source": [
    "%load_ext autoreload\n",
    "%autoreload 2\n",
    "%autosave 0"
   ]
  },
  {
   "cell_type": "code",
   "execution_count": 2,
   "metadata": {},
   "outputs": [],
   "source": [
    "from window import *"
   ]
  },
  {
   "cell_type": "code",
   "execution_count": 3,
   "metadata": {},
   "outputs": [
    {
     "data": {
      "text/plain": [
       "ContagionWindow(1.0, 1.0, 1.0, 1.0, 1.0)"
      ]
     },
     "execution_count": 3,
     "metadata": {},
     "output_type": "execute_result"
    }
   ],
   "source": [
    "window = ContagionWindow( 1 for _ in range(5) )\n",
    "window"
   ]
  },
  {
   "cell_type": "code",
   "execution_count": 4,
   "metadata": {},
   "outputs": [
    {
     "data": {
      "text/plain": [
       "{'case': 1.0, 'fatal': 0.0, 'transmit': 0.5, 'vaccinated': 0.0}"
      ]
     },
     "execution_count": 4,
     "metadata": {},
     "output_type": "execute_result"
    }
   ],
   "source": [
    "window.p"
   ]
  },
  {
   "cell_type": "code",
   "execution_count": null,
   "metadata": {},
   "outputs": [],
   "source": []
  },
  {
   "cell_type": "code",
   "execution_count": null,
   "metadata": {},
   "outputs": [],
   "source": []
  },
  {
   "cell_type": "code",
   "execution_count": null,
   "metadata": {},
   "outputs": [],
   "source": []
  },
  {
   "cell_type": "code",
   "execution_count": null,
   "metadata": {},
   "outputs": [],
   "source": []
  }
 ],
 "metadata": {
  "kernelspec": {
   "display_name": "Python 3",
   "language": "python",
   "name": "python3"
  },
  "language_info": {
   "codemirror_mode": {
    "name": "ipython",
    "version": 3
   },
   "file_extension": ".py",
   "mimetype": "text/x-python",
   "name": "python",
   "nbconvert_exporter": "python",
   "pygments_lexer": "ipython3",
   "version": "3.6.10"
  }
 },
 "nbformat": 4,
 "nbformat_minor": 4
}
