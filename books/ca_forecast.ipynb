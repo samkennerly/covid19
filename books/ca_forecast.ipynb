{
 "cells": [
  {
   "cell_type": "markdown",
   "metadata": {},
   "source": [
    "# Kaggle COVID19 California forecast\n",
    "Based on https://www.kaggle.com/samkennerly/contagion-window-model"
   ]
  },
  {
   "cell_type": "code",
   "execution_count": 1,
   "metadata": {},
   "outputs": [
    {
     "data": {
      "application/javascript": [
       "IPython.notebook.set_autosave_interval(0)"
      ]
     },
     "metadata": {},
     "output_type": "display_data"
    },
    {
     "name": "stdout",
     "output_type": "stream",
     "text": [
      "Autosave disabled\n"
     ]
    }
   ],
   "source": [
    "%load_ext autoreload\n",
    "%autoreload 2\n",
    "%autosave 0"
   ]
  },
  {
   "cell_type": "code",
   "execution_count": 2,
   "metadata": {},
   "outputs": [],
   "source": [
    "from datetime import timedelta\n",
    "from numpy import linspace\n",
    "from pathlib import Path\n",
    "from pandas import DataFrame, Series, read_csv"
   ]
  },
  {
   "cell_type": "code",
   "execution_count": 3,
   "metadata": {},
   "outputs": [],
   "source": [
    "FIGSIZE = (9, 5)\n",
    "FOLDER = Path(\"../data/kaggle/california\").resolve()\n",
    "OUTPUT = FOLDER / 'submission.csv'\n",
    "TRAIN = FOLDER / 'raw/ca_train.csv'\n",
    "TEST = FOLDER / 'raw/ca_test.csv'"
   ]
  },
  {
   "cell_type": "markdown",
   "metadata": {},
   "source": [
    "## get data\n",
    "Load training data and forecast dates."
   ]
  },
  {
   "cell_type": "code",
   "execution_count": 4,
   "metadata": {},
   "outputs": [
    {
     "data": {
      "text/plain": [
       "Date\n",
       "2020-04-19    39\n",
       "2020-04-20    40\n",
       "2020-04-21    41\n",
       "2020-04-22    42\n",
       "2020-04-23    43\n",
       "Name: ForecastId, dtype: int64"
      ]
     },
     "execution_count": 4,
     "metadata": {},
     "output_type": "execute_result"
    }
   ],
   "source": [
    "fid = (\n",
    "    read_csv(TEST, parse_dates=['Date'])\n",
    "    .set_index('Date')['ForecastId']\n",
    ")\n",
    "fid.tail()"
   ]
  },
  {
   "cell_type": "code",
   "execution_count": 5,
   "metadata": {},
   "outputs": [
    {
     "data": {
      "text/html": [
       "<div>\n",
       "<style scoped>\n",
       "    .dataframe tbody tr th:only-of-type {\n",
       "        vertical-align: middle;\n",
       "    }\n",
       "\n",
       "    .dataframe tbody tr th {\n",
       "        vertical-align: top;\n",
       "    }\n",
       "\n",
       "    .dataframe thead th {\n",
       "        text-align: right;\n",
       "    }\n",
       "</style>\n",
       "<table border=\"1\" class=\"dataframe\">\n",
       "  <thead>\n",
       "    <tr style=\"text-align: right;\">\n",
       "      <th></th>\n",
       "      <th>ConfirmedCases</th>\n",
       "      <th>Fatalities</th>\n",
       "    </tr>\n",
       "    <tr>\n",
       "      <th>Date</th>\n",
       "      <th></th>\n",
       "      <th></th>\n",
       "    </tr>\n",
       "  </thead>\n",
       "  <tbody>\n",
       "    <tr>\n",
       "      <th>2020-03-09</th>\n",
       "      <td>0.0</td>\n",
       "      <td>0.0</td>\n",
       "    </tr>\n",
       "    <tr>\n",
       "      <th>2020-03-10</th>\n",
       "      <td>144.0</td>\n",
       "      <td>2.0</td>\n",
       "    </tr>\n",
       "    <tr>\n",
       "      <th>2020-03-11</th>\n",
       "      <td>177.0</td>\n",
       "      <td>3.0</td>\n",
       "    </tr>\n",
       "    <tr>\n",
       "      <th>2020-03-12</th>\n",
       "      <td>221.0</td>\n",
       "      <td>4.0</td>\n",
       "    </tr>\n",
       "    <tr>\n",
       "      <th>2020-03-13</th>\n",
       "      <td>282.0</td>\n",
       "      <td>4.0</td>\n",
       "    </tr>\n",
       "    <tr>\n",
       "      <th>2020-03-14</th>\n",
       "      <td>340.0</td>\n",
       "      <td>5.0</td>\n",
       "    </tr>\n",
       "    <tr>\n",
       "      <th>2020-03-15</th>\n",
       "      <td>426.0</td>\n",
       "      <td>6.0</td>\n",
       "    </tr>\n",
       "    <tr>\n",
       "      <th>2020-03-16</th>\n",
       "      <td>557.0</td>\n",
       "      <td>7.0</td>\n",
       "    </tr>\n",
       "    <tr>\n",
       "      <th>2020-03-17</th>\n",
       "      <td>698.0</td>\n",
       "      <td>12.0</td>\n",
       "    </tr>\n",
       "    <tr>\n",
       "      <th>2020-03-18</th>\n",
       "      <td>751.0</td>\n",
       "      <td>13.0</td>\n",
       "    </tr>\n",
       "    <tr>\n",
       "      <th>2020-03-19</th>\n",
       "      <td>952.0</td>\n",
       "      <td>18.0</td>\n",
       "    </tr>\n",
       "    <tr>\n",
       "      <th>2020-03-20</th>\n",
       "      <td>1177.0</td>\n",
       "      <td>23.0</td>\n",
       "    </tr>\n",
       "    <tr>\n",
       "      <th>2020-03-21</th>\n",
       "      <td>1364.0</td>\n",
       "      <td>24.0</td>\n",
       "    </tr>\n",
       "    <tr>\n",
       "      <th>2020-03-22</th>\n",
       "      <td>1642.0</td>\n",
       "      <td>30.0</td>\n",
       "    </tr>\n",
       "    <tr>\n",
       "      <th>2020-03-23</th>\n",
       "      <td>2108.0</td>\n",
       "      <td>39.0</td>\n",
       "    </tr>\n",
       "    <tr>\n",
       "      <th>2020-03-24</th>\n",
       "      <td>2538.0</td>\n",
       "      <td>50.0</td>\n",
       "    </tr>\n",
       "  </tbody>\n",
       "</table>\n",
       "</div>"
      ],
      "text/plain": [
       "            ConfirmedCases  Fatalities\n",
       "Date                                  \n",
       "2020-03-09             0.0         0.0\n",
       "2020-03-10           144.0         2.0\n",
       "2020-03-11           177.0         3.0\n",
       "2020-03-12           221.0         4.0\n",
       "2020-03-13           282.0         4.0\n",
       "2020-03-14           340.0         5.0\n",
       "2020-03-15           426.0         6.0\n",
       "2020-03-16           557.0         7.0\n",
       "2020-03-17           698.0        12.0\n",
       "2020-03-18           751.0        13.0\n",
       "2020-03-19           952.0        18.0\n",
       "2020-03-20          1177.0        23.0\n",
       "2020-03-21          1364.0        24.0\n",
       "2020-03-22          1642.0        30.0\n",
       "2020-03-23          2108.0        39.0\n",
       "2020-03-24          2538.0        50.0"
      ]
     },
     "execution_count": 5,
     "metadata": {},
     "output_type": "execute_result"
    }
   ],
   "source": [
    "train = (\n",
    "    read_csv(TRAIN, parse_dates=['Date'])\n",
    "    .set_index('Date')['ConfirmedCases Fatalities'.split()]\n",
    ")\n",
    "train.tail(16)"
   ]
  },
  {
   "cell_type": "markdown",
   "metadata": {},
   "source": [
    "## model\n",
    "In this example, infected persons become immediately contagious, then quarantine themselves a few days later when symptoms appear."
   ]
  },
  {
   "cell_type": "code",
   "execution_count": 6,
   "metadata": {},
   "outputs": [
    {
     "data": {
      "image/png": "[encoded data removed]",
      "text/plain": [
       "<Figure size 648x360 with 1 Axes>"
      ]
     },
     "metadata": {
      "needs_background": "light"
     },
     "output_type": "display_data"
    }
   ],
   "source": [
    "def contagion_window(delay=4, duration=14, reproduction=2.5, **kwargs):\n",
    "    window = Series(linspace(1, 0, duration), name='window')\n",
    "    window *= reproduction / window.sum()\n",
    "    window[delay:] = 0\n",
    "    \n",
    "    return window.rename_axis('days since infection')\n",
    "\n",
    "plotkw = {'figsize': FIGSIZE }\n",
    "plotkw['color'] = 'red'\n",
    "plotkw['title'] = 'expected transmissions'\n",
    "axes = contagion_window().plot.bar(**plotkw)"
   ]
  },
  {
   "cell_type": "code",
   "execution_count": 7,
   "metadata": {},
   "outputs": [
    {
     "name": "stdout",
     "output_type": "stream",
     "text": [
      "Estimated mortality: 0.36 %\n"
     ]
    },
    {
     "data": {
      "text/html": [
       "<div>\n",
       "<style scoped>\n",
       "    .dataframe tbody tr th:only-of-type {\n",
       "        vertical-align: middle;\n",
       "    }\n",
       "\n",
       "    .dataframe tbody tr th {\n",
       "        vertical-align: top;\n",
       "    }\n",
       "\n",
       "    .dataframe thead th {\n",
       "        text-align: right;\n",
       "    }\n",
       "</style>\n",
       "<table border=\"1\" class=\"dataframe\">\n",
       "  <thead>\n",
       "    <tr style=\"text-align: right;\">\n",
       "      <th></th>\n",
       "      <th>confirmed</th>\n",
       "      <th>deceased</th>\n",
       "      <th>exposed</th>\n",
       "      <th>new</th>\n",
       "    </tr>\n",
       "    <tr>\n",
       "      <th>Date</th>\n",
       "      <th></th>\n",
       "      <th></th>\n",
       "      <th></th>\n",
       "      <th></th>\n",
       "    </tr>\n",
       "  </thead>\n",
       "  <tbody>\n",
       "    <tr>\n",
       "      <th>2020-04-19</th>\n",
       "      <td>57792</td>\n",
       "      <td>1040</td>\n",
       "      <td>288961</td>\n",
       "      <td>28108</td>\n",
       "    </tr>\n",
       "    <tr>\n",
       "      <th>2020-04-20</th>\n",
       "      <td>63986</td>\n",
       "      <td>1151</td>\n",
       "      <td>319932</td>\n",
       "      <td>30971</td>\n",
       "    </tr>\n",
       "    <tr>\n",
       "      <th>2020-04-21</th>\n",
       "      <td>70808</td>\n",
       "      <td>1274</td>\n",
       "      <td>354044</td>\n",
       "      <td>34112</td>\n",
       "    </tr>\n",
       "    <tr>\n",
       "      <th>2020-04-22</th>\n",
       "      <td>78320</td>\n",
       "      <td>1409</td>\n",
       "      <td>391601</td>\n",
       "      <td>37557</td>\n",
       "    </tr>\n",
       "    <tr>\n",
       "      <th>2020-04-23</th>\n",
       "      <td>86586</td>\n",
       "      <td>1558</td>\n",
       "      <td>432932</td>\n",
       "      <td>41331</td>\n",
       "    </tr>\n",
       "  </tbody>\n",
       "</table>\n",
       "</div>"
      ],
      "text/plain": [
       "            confirmed  deceased  exposed    new\n",
       "Date                                           \n",
       "2020-04-19      57792      1040   288961  28108\n",
       "2020-04-20      63986      1151   319932  30971\n",
       "2020-04-21      70808      1274   354044  34112\n",
       "2020-04-22      78320      1409   391601  37557\n",
       "2020-04-23      86586      1558   432932  41331"
      ]
     },
     "execution_count": 7,
     "metadata": {},
     "output_type": "execute_result"
    },
    {
     "data": {
      "image/png": "[encoded data removed]",
      "text/plain": [
       "<Figure size 648x360 with 1 Axes>"
      ]
     },
     "metadata": {
      "needs_background": "light"
     },
     "output_type": "display_data"
    }
   ],
   "source": [
    "def convolved(values, window):\n",
    "    \"\"\" int or float: Discrete convolution of two timeseries. \"\"\"\n",
    "    return sum( w * x for w, x in zip(window, reversed(values)) )\n",
    "\n",
    "def tomorrow(deltas, window, population=40_000_000, vax_rate=0, **kwargs):\n",
    "    \"\"\" int: Predicted number of new cases on next day. \"\"\"\n",
    "    sfrac = (1 - vax_rate - sum(deltas) / population )\n",
    "    \n",
    "    return int(sfrac * convolved(deltas, window))\n",
    "\n",
    "def predict(train, dates, confirm_rate=0.2, **kwargs):\n",
    "    \"\"\" DataFrame: Predicted future cases and fatalities. \"\"\"\n",
    "\n",
    "    aday = timedelta(days=1)\n",
    "    data = DataFrame(index=dates)\n",
    "    future = data.index.difference(train.index)\n",
    "    window = contagion_window(**kwargs)\n",
    "    duration = len(window)\n",
    "\n",
    "    # Backfill data from training-testing overlap\n",
    "    data['confirmed'] = train['ConfirmedCases']\n",
    "    data['deceased'] = train['Fatalities']\n",
    "    \n",
    "    # Estimate infection counts and real mortality rate\n",
    "    data['confirmed'] = train['ConfirmedCases']\n",
    "    data['exposed'] = (train['ConfirmedCases'] / confirm_rate)\n",
    "    mortality = data['deceased'].sum() / data['exposed'].sum()\n",
    "    print(\"Estimated mortality:\", round(100 * mortality, 2), \"%\")\n",
    " \n",
    "    # Predict new cases\n",
    "    data['new'] = data['exposed'].diff()\n",
    "    data.at[dates.min(), 'new'] = data['exposed'][0]\n",
    "    for t in future:\n",
    "        deltas = data.loc[:t-aday, 'new']\n",
    "        data.at[t, 'new'] = tomorrow(deltas, window, **kwargs)\n",
    "        \n",
    "    # Calculate cumulative totals\n",
    "    loc = data.loc\n",
    "    loc[future, 'exposed'] = data['new'].cumsum()\n",
    "    loc[future, 'deceased'] = loc[future, 'exposed'] * mortality\n",
    "    loc[future, 'confirmed'] = loc[future, 'exposed'] * confirm_rate\n",
    "\n",
    "    return data.sort_index(axis=1).astype(int)\n",
    "    \n",
    "data = predict(train, fid.index)\n",
    "axes = data.plot.line(color='bkgr', figsize=FIGSIZE, logy=True)\n",
    "data.tail()"
   ]
  },
  {
   "cell_type": "markdown",
   "metadata": {},
   "source": [
    "## submit results"
   ]
  },
  {
   "cell_type": "code",
   "execution_count": 8,
   "metadata": {
    "scrolled": false
   },
   "outputs": [
    {
     "name": "stdout",
     "output_type": "stream",
     "text": [
      "Save /context/data/kaggle/california/submission.csv\n"
     ]
    },
    {
     "data": {
      "text/html": [
       "<div>\n",
       "<style scoped>\n",
       "    .dataframe tbody tr th:only-of-type {\n",
       "        vertical-align: middle;\n",
       "    }\n",
       "\n",
       "    .dataframe tbody tr th {\n",
       "        vertical-align: top;\n",
       "    }\n",
       "\n",
       "    .dataframe thead th {\n",
       "        text-align: right;\n",
       "    }\n",
       "</style>\n",
       "<table border=\"1\" class=\"dataframe\">\n",
       "  <thead>\n",
       "    <tr style=\"text-align: right;\">\n",
       "      <th></th>\n",
       "      <th>ForecastId</th>\n",
       "      <th>ConfirmedCases</th>\n",
       "      <th>Fatalities</th>\n",
       "    </tr>\n",
       "    <tr>\n",
       "      <th>Date</th>\n",
       "      <th></th>\n",
       "      <th></th>\n",
       "      <th></th>\n",
       "    </tr>\n",
       "  </thead>\n",
       "  <tbody>\n",
       "    <tr>\n",
       "      <th>2020-04-19</th>\n",
       "      <td>39</td>\n",
       "      <td>57792</td>\n",
       "      <td>1040</td>\n",
       "    </tr>\n",
       "    <tr>\n",
       "      <th>2020-04-20</th>\n",
       "      <td>40</td>\n",
       "      <td>63986</td>\n",
       "      <td>1151</td>\n",
       "    </tr>\n",
       "    <tr>\n",
       "      <th>2020-04-21</th>\n",
       "      <td>41</td>\n",
       "      <td>70808</td>\n",
       "      <td>1274</td>\n",
       "    </tr>\n",
       "    <tr>\n",
       "      <th>2020-04-22</th>\n",
       "      <td>42</td>\n",
       "      <td>78320</td>\n",
       "      <td>1409</td>\n",
       "    </tr>\n",
       "    <tr>\n",
       "      <th>2020-04-23</th>\n",
       "      <td>43</td>\n",
       "      <td>86586</td>\n",
       "      <td>1558</td>\n",
       "    </tr>\n",
       "  </tbody>\n",
       "</table>\n",
       "</div>"
      ],
      "text/plain": [
       "            ForecastId  ConfirmedCases  Fatalities\n",
       "Date                                              \n",
       "2020-04-19          39           57792        1040\n",
       "2020-04-20          40           63986        1151\n",
       "2020-04-21          41           70808        1274\n",
       "2020-04-22          42           78320        1409\n",
       "2020-04-23          43           86586        1558"
      ]
     },
     "execution_count": 8,
     "metadata": {},
     "output_type": "execute_result"
    }
   ],
   "source": [
    "submission = (\n",
    "    DataFrame(index = data.index)\n",
    "    .assign(ForecastId = fid)\n",
    "    .assign(ConfirmedCases = data['confirmed'])\n",
    "    .assign(Fatalities = data['deceased'])\n",
    ")\n",
    "print(\"Save\", OUTPUT)\n",
    "submission.to_csv(OUTPUT, index=False)\n",
    "submission.tail()"
   ]
  }
 ],
 "metadata": {
  "kernelspec": {
   "display_name": "Python 3",
   "language": "python",
   "name": "python3"
  },
  "language_info": {
   "codemirror_mode": {
    "name": "ipython",
    "version": 3
   },
   "file_extension": ".py",
   "mimetype": "text/x-python",
   "name": "python",
   "nbconvert_exporter": "python",
   "pygments_lexer": "ipython3",
   "version": "3.8.2"
  }
 },
 "nbformat": 4,
 "nbformat_minor": 4
}
